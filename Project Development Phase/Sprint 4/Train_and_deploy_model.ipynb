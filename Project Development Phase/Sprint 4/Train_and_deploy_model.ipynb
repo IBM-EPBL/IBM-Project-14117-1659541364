{
  "cells": [
    {
      "cell_type": "markdown",
      "metadata": {
        "id": "wJsjB0hbFcTe"
      },
      "source": [
        "# Importing Libraries"
      ]
    },
    {
      "cell_type": "code",
      "execution_count": 2,
      "metadata": {
        "id": "O4kr-Lz_FarC"
      },
      "outputs": [],
      "source": [
        "import cv2\n",
        "import numpy as np\n",
        "from keras.datasets import mnist\n",
        "from keras.layers import Dense, Flatten\n",
        "from keras.layers.convolutional import Conv2D\n",
        "from keras.models import Sequential, load_model\n",
        "from keras.utils import to_categorical\n",
        "import matplotlib.pyplot as plt"
      ]
    },
    {
      "cell_type": "code",
      "execution_count": 3,
      "metadata": {
        "colab": {
          "base_uri": "https://localhost:8080/"
        },
        "id": "worr3HUR_Kkd",
        "outputId": "37ed56fd-f106-4e71-b22a-e6b6e50fb8f8"
      },
      "outputs": [
        {
          "output_type": "stream",
          "name": "stdout",
          "text": [
            "Downloading data from https://storage.googleapis.com/tensorflow/tf-keras-datasets/mnist.npz\n",
            "11490434/11490434 [==============================] - 1s 0us/step\n"
          ]
        }
      ],
      "source": [
        "(X_train, y_train), (X_test, y_test) = mnist.load_data()"
      ]
    },
    {
      "cell_type": "code",
      "execution_count": 4,
      "metadata": {
        "colab": {
          "base_uri": "https://localhost:8080/",
          "height": 283
        },
        "id": "vhUNxDkc_WBm",
        "outputId": "f7f14a63-851b-47ea-a899-239f7bf692da"
      },
      "outputs": [
        {
          "output_type": "display_data",
          "data": {
            "text/plain": [
              "<Figure size 432x288 with 1 Axes>"
            ],
            "image/png": "[encoded data removed]"
          },
          "metadata": {
            "needs_background": "light"
          }
        },
        {
          "output_type": "stream",
          "name": "stdout",
          "text": [
            "5\n"
          ]
        }
      ],
      "source": [
        "plt.imshow(X_train[0], cmap=\"gray\")\n",
        "plt.show()\n",
        "print (y_train[0])"
      ]
    },
    {
      "cell_type": "markdown",
      "metadata": {
        "id": "6np_CA40_e4K"
      },
      "source": [
        "# **Data Preprocessing**"
      ]
    },
    {
      "cell_type": "code",
      "source": [
        "from google.colab import drive\n",
        "drive.mount('/content/drive')"
      ],
      "metadata": {
        "colab": {
          "base_uri": "https://localhost:8080/"
        },
        "id": "btXAkyhqLsoM",
        "outputId": "358b887c-74cb-416d-d37a-90938e9c6647"
      },
      "execution_count": 5,
      "outputs": [
        {
          "output_type": "stream",
          "name": "stdout",
          "text": [
            "Mounted at /content/drive\n"
          ]
        }
      ]
    },
    {
      "cell_type": "code",
      "execution_count": 6,
      "metadata": {
        "colab": {
          "base_uri": "https://localhost:8080/"
        },
        "id": "tK9jSL2Z_ajw",
        "outputId": "02c7c4ac-b9e0-42d5-bd93-08b81255b0d5"
      },
      "outputs": [
        {
          "output_type": "stream",
          "name": "stdout",
          "text": [
            "Shape of X_train: (60000, 28, 28)\n",
            "Shape of y_train: (60000,)\n",
            "Shape of X_test: (10000, 28, 28)\n",
            "Shape of y_test: (10000,)\n"
          ]
        }
      ],
      "source": [
        "## Checking out the shapes involved in dataset\n",
        "print (\"Shape of X_train: {}\".format(X_train.shape))\n",
        "print (\"Shape of y_train: {}\".format(y_train.shape))\n",
        "print (\"Shape of X_test: {}\".format(X_test.shape))\n",
        "print (\"Shape of y_test: {}\".format(y_test.shape))"
      ]
    },
    {
      "cell_type": "code",
      "execution_count": 7,
      "metadata": {
        "id": "YJrxhGpM_uyp"
      },
      "outputs": [],
      "source": [
        "X_train = X_train.reshape(60000, 28, 28, 1)\n",
        "X_test = X_test.reshape(10000, 28, 28, 1)"
      ]
    },
    {
      "cell_type": "code",
      "execution_count": 8,
      "metadata": {
        "colab": {
          "base_uri": "https://localhost:8080/"
        },
        "id": "ef8090Y8_yJ3",
        "outputId": "04e79d2f-400c-4845-fb00-3374c01ebbcd"
      },
      "outputs": [
        {
          "output_type": "stream",
          "name": "stdout",
          "text": [
            "Shape of X_train: (60000, 28, 28, 1)\n",
            "Shape of y_train: (60000,)\n",
            "Shape of X_test: (10000, 28, 28, 1)\n",
            "Shape of y_test: (10000,)\n"
          ]
        }
      ],
      "source": [
        "print (\"Shape of X_train: {}\".format(X_train.shape))\n",
        "print (\"Shape of y_train: {}\".format(y_train.shape))\n",
        "print (\"Shape of X_test: {}\".format(X_test.shape))\n",
        "print (\"Shape of y_test: {}\".format(y_test.shape))"
      ]
    },
    {
      "cell_type": "markdown",
      "metadata": {
        "id": "oepz4vuS_3sf"
      },
      "source": [
        "# **One Hot Encoding**"
      ]
    },
    {
      "cell_type": "code",
      "execution_count": 9,
      "metadata": {
        "id": "V_7xYzh7_00h"
      },
      "outputs": [],
      "source": [
        "y_train = to_categorical(y_train)\n",
        "y_test = to_categorical(y_test)"
      ]
    },
    {
      "cell_type": "markdown",
      "metadata": {
        "id": "Kead1fpPARCE"
      },
      "source": [
        "# **Model Building**"
      ]
    },
    {
      "cell_type": "code",
      "execution_count": 10,
      "metadata": {
        "id": "1VXTJIMGAIiq"
      },
      "outputs": [],
      "source": [
        "## Declare the model\n",
        "model = Sequential()\n",
        "\n",
        "## Declare the layers\n",
        "layer_1 = Conv2D(32, kernel_size=3, activation='relu', input_shape=(28, 28, 1))\n",
        "layer_2 = Conv2D(64, kernel_size=3, activation='relu')\n",
        "layer_3 = Flatten()\n",
        "layer_4 = Dense(10, activation='softmax')\n",
        "\n",
        "## Add the layers to the model\n",
        "model.add(layer_1)\n",
        "model.add(layer_2)\n",
        "model.add(layer_3)\n",
        "model.add(layer_4)"
      ]
    },
    {
      "cell_type": "markdown",
      "metadata": {
        "id": "XVcs07PQAkDJ"
      },
      "source": [
        "# **Model Compilation**"
      ]
    },
    {
      "cell_type": "code",
      "execution_count": 11,
      "metadata": {
        "id": "wEVR5cDYAbLX"
      },
      "outputs": [],
      "source": [
        "model.compile(optimizer='adam', loss='categorical_crossentropy', metrics=['accuracy'])"
      ]
    },
    {
      "cell_type": "markdown",
      "metadata": {
        "id": "Hwr_PsR2AtXy"
      },
      "source": [
        "# **Training the model**"
      ]
    },
    {
      "cell_type": "code",
      "source": [
        "model.fit(X_train, y_train, validation_data=(X_test, y_test), epochs=10)"
      ],
      "metadata": {
        "colab": {
          "base_uri": "https://localhost:8080/"
        },
        "id": "xFTzbpx0gAv3",
        "outputId": "bb4c7b80-9d39-44bc-d31d-377467ce3583"
      },
      "execution_count": 12,
      "outputs": [
        {
          "output_type": "stream",
          "name": "stdout",
          "text": [
            "Epoch 1/10\n",
            "1875/1875 [==============================] - 167s 89ms/step - loss: 0.2576 - accuracy: 0.9563 - val_loss: 0.0816 - val_accuracy: 0.9758\n",
            "Epoch 2/10\n",
            "1875/1875 [==============================] - 155s 83ms/step - loss: 0.0604 - accuracy: 0.9825 - val_loss: 0.0915 - val_accuracy: 0.9727\n",
            "Epoch 3/10\n",
            "1875/1875 [==============================] - 154s 82ms/step - loss: 0.0395 - accuracy: 0.9881 - val_loss: 0.0883 - val_accuracy: 0.9776\n",
            "Epoch 4/10\n",
            "1875/1875 [==============================] - 154s 82ms/step - loss: 0.0370 - accuracy: 0.9893 - val_loss: 0.0963 - val_accuracy: 0.9789\n",
            "Epoch 5/10\n",
            "1875/1875 [==============================] - 154s 82ms/step - loss: 0.0309 - accuracy: 0.9913 - val_loss: 0.1148 - val_accuracy: 0.9762\n",
            "Epoch 6/10\n",
            "1875/1875 [==============================] - 154s 82ms/step - loss: 0.0240 - accuracy: 0.9935 - val_loss: 0.1214 - val_accuracy: 0.9793\n",
            "Epoch 7/10\n",
            "1875/1875 [==============================] - 153s 82ms/step - loss: 0.0248 - accuracy: 0.9934 - val_loss: 0.1150 - val_accuracy: 0.9798\n",
            "Epoch 8/10\n",
            "1875/1875 [==============================] - 153s 82ms/step - loss: 0.0194 - accuracy: 0.9952 - val_loss: 0.1800 - val_accuracy: 0.9796\n",
            "Epoch 9/10\n",
            "1875/1875 [==============================] - 155s 83ms/step - loss: 0.0179 - accuracy: 0.9959 - val_loss: 0.1581 - val_accuracy: 0.9830\n",
            "Epoch 10/10\n",
            "1875/1875 [==============================] - 179s 95ms/step - loss: 0.0199 - accuracy: 0.9955 - val_loss: 0.1712 - val_accuracy: 0.9830\n"
          ]
        },
        {
          "output_type": "execute_result",
          "data": {
            "text/plain": [
              "<keras.callbacks.History at 0x7fc32b9dc890>"
            ]
          },
          "metadata": {},
          "execution_count": 12
        }
      ]
    },
    {
      "cell_type": "markdown",
      "metadata": {
        "id": "HH2X1on272F7"
      },
      "source": [
        "## **Model Saving and Loading**"
      ]
    },
    {
      "cell_type": "code",
      "execution_count": 13,
      "metadata": {
        "id": "M7qdT9afHBTe"
      },
      "outputs": [],
      "source": [
        "model.save('/content/drive/MyDrive/NHDRP/model-weights.h5')\n",
        "#model = load_model('/content/drive/MyDrive/NHDRP/model-weights.h5')"
      ]
    },
    {
      "cell_type": "markdown",
      "metadata": {
        "id": "e8xTd2-oJ8T4"
      },
      "source": []
    },
    {
      "cell_type": "markdown",
      "metadata": {
        "id": "hhJ5PTqFBOWs"
      },
      "source": [
        "# **Prediction**"
      ]
    },
    {
      "cell_type": "code",
      "execution_count": 14,
      "metadata": {
        "colab": {
          "base_uri": "https://localhost:8080/",
          "height": 586
        },
        "id": "VRTi2c4cBJ9P",
        "outputId": "533c3fd8-5b34-4797-a78f-2962c2099fd9"
      },
      "outputs": [
        {
          "output_type": "stream",
          "name": "stdout",
          "text": [
            "1/1 [==============================] - 0s 87ms/step\n",
            "Prediction (Softmax) from the neural network:\n",
            "\n",
            " [[1.8474708e-33 1.3499289e-24 4.1346738e-27 1.0889268e-17 2.6751529e-12\n",
            "  4.4519563e-22 5.5194086e-38 7.0961908e-12 1.4656481e-15 1.0000000e+00]]\n",
            "\n",
            "\n",
            "Hard-maxed form of the prediction: \n",
            "\n",
            " [[0. 0. 0. 0. 0. 0. 0. 0. 0. 1.]]\n",
            "\n",
            "\n",
            "--------- Prediction --------- \n",
            "\n",
            "\n"
          ]
        },
        {
          "output_type": "display_data",
          "data": {
            "text/plain": [
              "<Figure size 432x288 with 1 Axes>"
            ],
            "image/png": "[encoded data removed]"
          },
          "metadata": {
            "needs_background": "light"
          }
        },
        {
          "output_type": "stream",
          "name": "stdout",
          "text": [
            "\n",
            "\n",
            "Final Output: 9\n"
          ]
        }
      ],
      "source": [
        "example = X_train[4]\n",
        "prediction = model.predict(example.reshape(1, 28, 28, 1))\n",
        "\n",
        "## First output\n",
        "print (\"Prediction (Softmax) from the neural network:\\n\\n {}\".format(prediction))\n",
        "\n",
        "## Second output\n",
        "hard_maxed_prediction = np.zeros(prediction.shape)\n",
        "hard_maxed_prediction[0][np.argmax(prediction)] = 1\n",
        "print (\"\\n\\nHard-maxed form of the prediction: \\n\\n {}\".format(hard_maxed_prediction))\n",
        "\n",
        "## Third output\n",
        "print (\"\\n\\n--------- Prediction --------- \\n\\n\")\n",
        "plt.imshow(example.reshape(28, 28), cmap=\"gray\")\n",
        "plt.show()\n",
        "print(\"\\n\\nFinal Output: {}\".format(np.argmax(prediction)))"
      ]
    },
    {
      "cell_type": "markdown",
      "metadata": {
        "id": "y9Ybj_m_EEKt"
      },
      "source": [
        "# Saved Model in .gz format"
      ]
    },
    {
      "cell_type": "code",
      "execution_count": 15,
      "metadata": {
        "colab": {
          "base_uri": "https://localhost:8080/"
        },
        "id": "OfG3vbpDEEge",
        "outputId": "a3b31eb3-ae4c-4af3-cf3b-09cfbd57b3f8"
      },
      "outputs": [
        {
          "output_type": "stream",
          "name": "stdout",
          "text": [
            "tar: Removing leading `/' from member names\n",
            "/content/drive/MyDrive/NHDRP/model-weights.h5\n"
          ]
        }
      ],
      "source": [
        "!tar -zcvf /content/drive/MyDrive/NHDRP/model-weights.tgz /content/drive/MyDrive/NHDRP/model-weights.h5"
      ]
    },
    {
      "cell_type": "markdown",
      "metadata": {
        "id": "JkLOMYtIBu9-"
      },
      "source": [
        "# **Install Necessary Packages**"
      ]
    },
    {
      "cell_type": "code",
      "execution_count": 16,
      "metadata": {
        "id": "bBj71EbkD_M9",
        "colab": {
          "base_uri": "https://localhost:8080/"
        },
        "outputId": "a3749a92-4626-48bb-baef-26c97f60a1ad"
      },
      "outputs": [
        {
          "output_type": "stream",
          "name": "stdout",
          "text": [
            "Looking in indexes: https://pypi.org/simple, https://us-python.pkg.dev/colab-wheels/public/simple/\n",
            "Collecting ibm-watson-machine-learning\n",
            "  Downloading ibm_watson_machine_learning-1.0.257-py3-none-any.whl (1.8 MB)\n",
            "\u001b[K     |████████████████████████████████| 1.8 MB 4.2 MB/s \n",
            "\u001b[?25hRequirement already satisfied: packaging in /usr/local/lib/python3.7/dist-packages (from ibm-watson-machine-learning) (21.3)\n",
            "Requirement already satisfied: requests in /usr/local/lib/python3.7/dist-packages (from ibm-watson-machine-learning) (2.23.0)\n",
            "Requirement already satisfied: pandas<1.5.0,>=0.24.2 in /usr/local/lib/python3.7/dist-packages (from ibm-watson-machine-learning) (1.3.5)\n",
            "Collecting ibm-cos-sdk==2.7.*\n",
            "  Downloading ibm-cos-sdk-2.7.0.tar.gz (51 kB)\n",
            "\u001b[K     |████████████████████████████████| 51 kB 700 kB/s \n",
            "\u001b[?25hRequirement already satisfied: importlib-metadata in /usr/local/lib/python3.7/dist-packages (from ibm-watson-machine-learning) (4.13.0)\n",
            "Requirement already satisfied: urllib3 in /usr/local/lib/python3.7/dist-packages (from ibm-watson-machine-learning) (1.24.3)\n",
            "Requirement already satisfied: tabulate in /usr/local/lib/python3.7/dist-packages (from ibm-watson-machine-learning) (0.8.10)\n",
            "Collecting lomond\n",
            "  Downloading lomond-0.3.3-py2.py3-none-any.whl (35 kB)\n",
            "Requirement already satisfied: certifi in /usr/local/lib/python3.7/dist-packages (from ibm-watson-machine-learning) (2022.9.24)\n",
            "Collecting ibm-cos-sdk-core==2.7.0\n",
            "  Downloading ibm-cos-sdk-core-2.7.0.tar.gz (824 kB)\n",
            "\u001b[K     |████████████████████████████████| 824 kB 47.8 MB/s \n",
            "\u001b[?25hCollecting ibm-cos-sdk-s3transfer==2.7.0\n",
            "  Downloading ibm-cos-sdk-s3transfer-2.7.0.tar.gz (133 kB)\n",
            "\u001b[K     |████████████████████████████████| 133 kB 54.8 MB/s \n",
            "\u001b[?25hCollecting jmespath<1.0.0,>=0.7.1\n",
            "  Downloading jmespath-0.10.0-py2.py3-none-any.whl (24 kB)\n",
            "Collecting docutils<0.16,>=0.10\n",
            "  Downloading docutils-0.15.2-py3-none-any.whl (547 kB)\n",
            "\u001b[K     |████████████████████████████████| 547 kB 52.5 MB/s \n",
            "\u001b[?25hRequirement already satisfied: python-dateutil<3.0.0,>=2.1 in /usr/local/lib/python3.7/dist-packages (from ibm-cos-sdk-core==2.7.0->ibm-cos-sdk==2.7.*->ibm-watson-machine-learning) (2.8.2)\n",
            "Requirement already satisfied: pytz>=2017.3 in /usr/local/lib/python3.7/dist-packages (from pandas<1.5.0,>=0.24.2->ibm-watson-machine-learning) (2022.6)\n",
            "Requirement already satisfied: numpy>=1.17.3 in /usr/local/lib/python3.7/dist-packages (from pandas<1.5.0,>=0.24.2->ibm-watson-machine-learning) (1.21.6)\n",
            "Requirement already satisfied: six>=1.5 in /usr/local/lib/python3.7/dist-packages (from python-dateutil<3.0.0,>=2.1->ibm-cos-sdk-core==2.7.0->ibm-cos-sdk==2.7.*->ibm-watson-machine-learning) (1.15.0)\n",
            "Requirement already satisfied: idna<3,>=2.5 in /usr/local/lib/python3.7/dist-packages (from requests->ibm-watson-machine-learning) (2.10)\n",
            "Requirement already satisfied: chardet<4,>=3.0.2 in /usr/local/lib/python3.7/dist-packages (from requests->ibm-watson-machine-learning) (3.0.4)\n",
            "Requirement already satisfied: typing-extensions>=3.6.4 in /usr/local/lib/python3.7/dist-packages (from importlib-metadata->ibm-watson-machine-learning) (4.1.1)\n",
            "Requirement already satisfied: zipp>=0.5 in /usr/local/lib/python3.7/dist-packages (from importlib-metadata->ibm-watson-machine-learning) (3.10.0)\n",
            "Requirement already satisfied: pyparsing!=3.0.5,>=2.0.2 in /usr/local/lib/python3.7/dist-packages (from packaging->ibm-watson-machine-learning) (3.0.9)\n",
            "Building wheels for collected packages: ibm-cos-sdk, ibm-cos-sdk-core, ibm-cos-sdk-s3transfer\n",
            "  Building wheel for ibm-cos-sdk (setup.py) ... \u001b[?25l\u001b[?25hdone\n",
            "  Created wheel for ibm-cos-sdk: filename=ibm_cos_sdk-2.7.0-py2.py3-none-any.whl size=72563 sha256=ec88087c00619b994503e54889ea871d3905d77acbc50f235affff5309b13d0e\n",
            "  Stored in directory: /root/.cache/pip/wheels/47/22/bf/e1154ff0f5de93cc477acd0ca69abfbb8b799c5b28a66b44c2\n",
            "  Building wheel for ibm-cos-sdk-core (setup.py) ... \u001b[?25l\u001b[?25hdone\n",
            "  Created wheel for ibm-cos-sdk-core: filename=ibm_cos_sdk_core-2.7.0-py2.py3-none-any.whl size=501013 sha256=12608fe5610060c0864352be06c9007a749b84889e661fa88066b1c39f389cfa\n",
            "  Stored in directory: /root/.cache/pip/wheels/6c/a2/e4/c16d02f809a3ea998e17cfd02c13369281f3d232aaf5902c19\n",
            "  Building wheel for ibm-cos-sdk-s3transfer (setup.py) ... \u001b[?25l\u001b[?25hdone\n",
            "  Created wheel for ibm-cos-sdk-s3transfer: filename=ibm_cos_sdk_s3transfer-2.7.0-py2.py3-none-any.whl size=88622 sha256=477f312667f6660c011925b0e86a48cc7b5a45abf0eda161650539eb76f28956\n",
            "  Stored in directory: /root/.cache/pip/wheels/5f/b7/14/fbe02bc1ef1af890650c7e51743d1c83890852e598d164b9da\n",
            "Successfully built ibm-cos-sdk ibm-cos-sdk-core ibm-cos-sdk-s3transfer\n",
            "Installing collected packages: jmespath, docutils, ibm-cos-sdk-core, ibm-cos-sdk-s3transfer, lomond, ibm-cos-sdk, ibm-watson-machine-learning\n",
            "  Attempting uninstall: docutils\n",
            "    Found existing installation: docutils 0.17.1\n",
            "    Uninstalling docutils-0.17.1:\n",
            "      Successfully uninstalled docutils-0.17.1\n",
            "Successfully installed docutils-0.15.2 ibm-cos-sdk-2.7.0 ibm-cos-sdk-core-2.7.0 ibm-cos-sdk-s3transfer-2.7.0 ibm-watson-machine-learning-1.0.257 jmespath-0.10.0 lomond-0.3.3\n"
          ]
        }
      ],
      "source": [
        "!pip install ibm-watson-machine-learning"
      ]
    },
    {
      "cell_type": "markdown",
      "metadata": {
        "id": "2z2Fx7t4EvCU"
      },
      "source": [
        "# Connect to IBM Watson Machine Learning Instance"
      ]
    },
    {
      "cell_type": "code",
      "execution_count": 17,
      "metadata": {
        "colab": {
          "base_uri": "https://localhost:8080/"
        },
        "id": "tYMMXFDWErOc",
        "outputId": "94f70e6a-ddaf-4ad6-d67f-21e2f202a98d"
      },
      "outputs": [
        {
          "output_type": "stream",
          "name": "stdout",
          "text": [
            "Python 3.7 and 3.8 frameworks are deprecated and will be removed in a future release. Use Python 3.9 framework instead.\n"
          ]
        }
      ],
      "source": [
        "from ibm_watson_machine_learning import APIClient\n",
        "\n",
        "API_KEY = \"09EsLD4cSQTpQPc4xYZ-sWUd1DKfdUW8B9SDw-jRgKuG\"\n",
        "\n",
        "credentials = {\n",
        "    \"url\": \"https://us-south.ml.cloud.ibm.com\",\n",
        "    \"apikey\": API_KEY\n",
        "}\n",
        "\n",
        "client = APIClient(credentials)"
      ]
    },
    {
      "cell_type": "code",
      "execution_count": 18,
      "metadata": {
        "id": "VwIRGWLKE4Cj"
      },
      "outputs": [],
      "source": [
        "def guid_from_space_name(c, space_name):\n",
        "    space = c.spaces.get_details()\n",
        "    return(next(item for item in space['resources'] if item['entity']['name'] == space_name)['metadata']['id'])"
      ]
    },
    {
      "cell_type": "code",
      "source": [
        "space_uid = guid_from_space_name(client, 'handwritten-recognition')\n",
        "print(\"Space UID: \", space_uid)"
      ],
      "metadata": {
        "colab": {
          "base_uri": "https://localhost:8080/"
        },
        "id": "NmtjIurzXAw5",
        "outputId": "7d5d125d-2193-422e-f166-a7fd749f7ac0"
      },
      "execution_count": 19,
      "outputs": [
        {
          "output_type": "stream",
          "name": "stdout",
          "text": [
            "Space UID:  47653005-350f-45bb-a3a4-950b1bf66fbf\n"
          ]
        }
      ]
    },
    {
      "cell_type": "code",
      "source": [
        "client.set.default_space(space_uid)"
      ],
      "metadata": {
        "colab": {
          "base_uri": "https://localhost:8080/",
          "height": 35
        },
        "id": "YHYk4SrnXC1Q",
        "outputId": "d799c164-b0ea-4239-9b98-02c9dc21d171"
      },
      "execution_count": 20,
      "outputs": [
        {
          "output_type": "execute_result",
          "data": {
            "text/plain": [
              "'SUCCESS'"
            ],
            "application/vnd.google.colaboratory.intrinsic+json": {
              "type": "string"
            }
          },
          "metadata": {},
          "execution_count": 20
        }
      ]
    }
  ],
  "metadata": {
    "colab": {
      "toc_visible": true,
      "provenance": []
    },
    "kernelspec": {
      "display_name": "Python 3",
      "name": "python3"
    },
    "language_info": {
      "name": "python"
    }
  },
  "nbformat": 4,
  "nbformat_minor": 0
}